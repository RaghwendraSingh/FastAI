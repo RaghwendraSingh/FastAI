{
 "cells": [
  {
   "cell_type": "code",
   "execution_count": 1,
   "metadata": {
    "collapsed": true
   },
   "outputs": [],
   "source": [
    "import pandas as pd\n",
    "import shutil"
   ]
  },
  {
   "cell_type": "markdown",
   "metadata": {},
   "source": [
    "#### reading lables"
   ]
  },
  {
   "cell_type": "code",
   "execution_count": 9,
   "metadata": {},
   "outputs": [],
   "source": [
    "labels_df = pd.read_csv(\"/home/superpc/RaghwendraSingh/FastAI/data/Dog Breeds/labels.csv\")\n",
    "labels = labels_df.values\n",
    "breeds = labels_df[\"breed\"].unique()"
   ]
  },
  {
   "cell_type": "code",
   "execution_count": 4,
   "metadata": {},
   "outputs": [
    {
     "data": {
      "text/plain": [
       "array([['000bec180eb18c7604dcecc8fe0dba07', 'boston_bull'],\n",
       "       ['001513dfcb2ffafc82cccf4d8bbaba97', 'dingo'],\n",
       "       ['001cdf01b096e06d78e9e5112d419397', 'pekinese'],\n",
       "       ['00214f311d5d2247d5dfe4fe24b2303d', 'bluetick'],\n",
       "       ['0021f9ceb3235effd7fcde7f7538ed62', 'golden_retriever']], dtype=object)"
      ]
     },
     "execution_count": 4,
     "metadata": {},
     "output_type": "execute_result"
    }
   ],
   "source": [
    "labels[:5]"
   ]
  },
  {
   "cell_type": "markdown",
   "metadata": {},
   "source": [
    "### function to create dirs"
   ]
  },
  {
   "cell_type": "code",
   "execution_count": 5,
   "metadata": {
    "collapsed": true
   },
   "outputs": [],
   "source": [
    "import shutil\n",
    "import os\n",
    "def createDirs(base_dir, labels):\n",
    "    \"\"\"\n",
    "    create dir for labels in a given dir\n",
    "    overwwrites if dir already exists\n",
    "    \"\"\"\n",
    "    try:\n",
    "        shutil.rmtree(base_dir+'labelled/')\n",
    "    except OSError:\n",
    "        print 'nothing to clear'\n",
    "    os.mkdir(base_dir+'labelled/')\n",
    "    for label in labels:\n",
    "        os.mkdir(base_dir+'labelled/'+label)"
   ]
  },
  {
   "cell_type": "code",
   "execution_count": 6,
   "metadata": {
    "collapsed": true
   },
   "outputs": [],
   "source": [
    "base_dir = '/home/superpc/RaghwendraSingh/FastAI/data/Dog Breeds/'"
   ]
  },
  {
   "cell_type": "code",
   "execution_count": 11,
   "metadata": {},
   "outputs": [],
   "source": [
    "createDirs(base_dir, breeds)"
   ]
  },
  {
   "cell_type": "code",
   "execution_count": 14,
   "metadata": {
    "collapsed": true
   },
   "outputs": [],
   "source": [
    "import shutil\n",
    "def imgToClass(labels_df, train_dir, base_dir):\n",
    "    breed_id = labels_df.values\n",
    "    breeds = labels_df['breed'].unique()\n",
    "    createDirs(base_dir, breeds)\n",
    "    for id, breed in breed_id:\n",
    "        shutil.copy(train_dir+str(id)+'.jpg', base_dir+'labelled/'+breed)"
   ]
  },
  {
   "cell_type": "code",
   "execution_count": 16,
   "metadata": {},
   "outputs": [],
   "source": [
    "imgToClass(labels_df, base_dir+'train/', base_dir)"
   ]
  },
  {
   "cell_type": "code",
   "execution_count": null,
   "metadata": {
    "collapsed": true
   },
   "outputs": [],
   "source": [
    "createDirs('')"
   ]
  }
 ],
 "metadata": {
  "kernelspec": {
   "display_name": "Python 2",
   "language": "python",
   "name": "python2"
  },
  "language_info": {
   "codemirror_mode": {
    "name": "ipython",
    "version": 2
   },
   "file_extension": ".py",
   "mimetype": "text/x-python",
   "name": "python",
   "nbconvert_exporter": "python",
   "pygments_lexer": "ipython2",
   "version": "2.7.13"
  }
 },
 "nbformat": 4,
 "nbformat_minor": 2
}
