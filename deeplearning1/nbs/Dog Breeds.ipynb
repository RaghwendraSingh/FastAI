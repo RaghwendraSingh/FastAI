{
 "cells": [
  {
   "cell_type": "code",
   "execution_count": 1,
   "metadata": {
    "collapsed": true
   },
   "outputs": [],
   "source": [
    "import pandas as pd\n",
    "import shutil"
   ]
  },
  {
   "cell_type": "markdown",
   "metadata": {},
   "source": [
    "#### reading lables"
   ]
  },
  {
   "cell_type": "code",
   "execution_count": 2,
   "metadata": {
    "collapsed": true
   },
   "outputs": [],
   "source": [
    "labels = pd.read_csv(\"/home/superpc/RaghwendraSingh/FastAI/data/labels.csv\").values"
   ]
  },
  {
   "cell_type": "code",
   "execution_count": 3,
   "metadata": {},
   "outputs": [
    {
     "data": {
      "text/plain": [
       "array([['a', 1402],\n",
       "       ['b', 1614],\n",
       "       ['c', 2423],\n",
       "       ['d', 6391],\n",
       "       ['e', 6768],\n",
       "       ['f', 8091],\n",
       "       ['g', 8643],\n",
       "       ['h', 9077]], dtype=object)"
      ]
     },
     "execution_count": 3,
     "metadata": {},
     "output_type": "execute_result"
    }
   ],
   "source": [
    "labels"
   ]
  },
  {
   "cell_type": "markdown",
   "metadata": {},
   "source": [
    "### function to create dirs"
   ]
  },
  {
   "cell_type": "code",
   "execution_count": 23,
   "metadata": {},
   "outputs": [],
   "source": [
    "import shutil\n",
    "import os\n",
    "def createDirs(base_dir, labels):\n",
    "    \"\"\"\n",
    "    create dir for labels in a given dir\n",
    "    overwwrites if dir already exists\n",
    "    \"\"\"\n",
    "    try:\n",
    "        shutil.rmtree(base_dir+'labelled/')\n",
    "    except OSError:\n",
    "        print 'nothing to clear'\n",
    "    os.mkdir(base_dir+'labelled/')\n",
    "    for label in labels:\n",
    "        os.mkdir(base_dir+'labelled/'+label)"
   ]
  },
  {
   "cell_type": "code",
   "execution_count": 15,
   "metadata": {
    "collapsed": true
   },
   "outputs": [],
   "source": [
    "base_dir = '/home/superpc/RaghwendraSingh/FastAI/data/'"
   ]
  },
  {
   "cell_type": "code",
   "execution_count": 22,
   "metadata": {},
   "outputs": [],
   "source": [
    "createDirs(base_dir, labels[:, 0])"
   ]
  },
  {
   "cell_type": "code",
   "execution_count": 27,
   "metadata": {},
   "outputs": [],
   "source": [
    "import shutil\n",
    "def imgToClass(breed_id, train_dir, base_dir):\n",
    "    createDirs(base_dir, breed_id[:, 0])\n",
    "    for breed, id in breed_id:\n",
    "        shutil.copy(train_dir+breed+'.'+str(id)+'.jpg', base_dir+'labelled/'+breed)"
   ]
  },
  {
   "cell_type": "code",
   "execution_count": 29,
   "metadata": {},
   "outputs": [],
   "source": [
    "imgToClass(labels, '/home/superpc/RaghwendraSingh/FastAI/data/dogs/', '/home/superpc/RaghwendraSingh/FastAI/data/')"
   ]
  },
  {
   "cell_type": "code",
   "execution_count": null,
   "metadata": {
    "collapsed": true
   },
   "outputs": [],
   "source": [
    "createDirs('')"
   ]
  }
 ],
 "metadata": {
  "kernelspec": {
   "display_name": "Python 2",
   "language": "python",
   "name": "python2"
  },
  "language_info": {
   "codemirror_mode": {
    "name": "ipython",
    "version": 2
   },
   "file_extension": ".py",
   "mimetype": "text/x-python",
   "name": "python",
   "nbconvert_exporter": "python",
   "pygments_lexer": "ipython2",
   "version": "2.7.13"
  }
 },
 "nbformat": 4,
 "nbformat_minor": 2
}
